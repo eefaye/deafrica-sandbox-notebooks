{
 "cells": [
  {
   "cell_type": "markdown",
   "metadata": {},
   "source": [
    "# Creating random reference data polygons\n",
    "\n",
    "Using Collect Earth Online (CEO), these randomly scattered polygons will be classified as crop, non-crop, or mixed and form the knowledge base for the machine learning classifier.\n",
    "\n",
    "Stratifying points using the GFSAD cropland extent map, resampled to 60m resolution.\n",
    "    \n",
    "    import os\n",
    "    os.chdir('data/GFSAD/')\n",
    "    gdalwarp -tr 0.0005389891704717132 0.0005389891704717132  -r mode GFSAD_mosaic.tif GFSAD_mosaic_60m.tif\n",
    "\n",
    "> TODO: Add an extra column identifying the GFSAD class (not just whether it came from the dataset). Use the label `GFSAD_CLASS`"
   ]
  },
  {
   "cell_type": "markdown",
   "metadata": {},
   "source": [
    "### Load modules"
   ]
  },
  {
   "cell_type": "code",
   "execution_count": 1,
   "metadata": {},
   "outputs": [],
   "source": [
    "import geopandas as gpd\n",
    "from datacube.utils.cog import write_cog\n",
    "import xarray as xr\n",
    "import numpy as np\n",
    "import pandas as pd\n",
    "import datacube\n",
    "from affine import Affine\n",
    "from datacube.utils.geometry import assign_crs\n",
    "\n",
    "import sys\n",
    "sys.path.append('../Scripts')\n",
    "from deafrica_spatialtools import xr_rasterize\n",
    "from deafrica_dask import create_local_dask_cluster\n",
    "\n",
    "import warnings\n",
    "warnings.filterwarnings(\"ignore\")"
   ]
  },
  {
   "cell_type": "code",
   "execution_count": 2,
   "metadata": {},
   "outputs": [
    {
     "data": {
      "text/html": [
       "<table style=\"border: 2px solid white;\">\n",
       "<tr>\n",
       "<td style=\"vertical-align: top; border: 0px solid white\">\n",
       "<h3 style=\"text-align: left;\">Client</h3>\n",
       "<ul style=\"text-align: left; list-style: none; margin: 0; padding: 0;\">\n",
       "  <li><b>Scheduler: </b>tcp://127.0.0.1:44041</li>\n",
       "  <li><b>Dashboard: </b><a href='/user/chad/proxy/8787/status' target='_blank'>/user/chad/proxy/8787/status</a></li>\n",
       "</ul>\n",
       "</td>\n",
       "<td style=\"vertical-align: top; border: 0px solid white\">\n",
       "<h3 style=\"text-align: left;\">Cluster</h3>\n",
       "<ul style=\"text-align: left; list-style:none; margin: 0; padding: 0;\">\n",
       "  <li><b>Workers: </b>1</li>\n",
       "  <li><b>Cores: </b>15</li>\n",
       "  <li><b>Memory: </b>104.37 GB</li>\n",
       "</ul>\n",
       "</td>\n",
       "</tr>\n",
       "</table>"
      ],
      "text/plain": [
       "<Client: 'tcp://127.0.0.1:44041' processes=1 threads=15, memory=104.37 GB>"
      ]
     },
     "metadata": {},
     "output_type": "display_data"
    }
   ],
   "source": [
    "create_local_dask_cluster()"
   ]
  },
  {
   "cell_type": "markdown",
   "metadata": {},
   "source": [
    "### Analysis Parameters"
   ]
  },
  {
   "cell_type": "code",
   "execution_count": 3,
   "metadata": {},
   "outputs": [],
   "source": [
    "# asap_crop_mask = 'data/asap_mask_crop_v03.tif'\n",
    "crop_mask_shp = 'data/GFSAD/GFSAD_mosaic_60m.tif'\n",
    "\n",
    "#AEZ to mask crop mask\n",
    "aez = 'data/AEZs/Eastern.shp'\n",
    "\n",
    "#location and file name to store shapefiles.\n",
    "results = 'data/training_validation/collect_earth/eastern/eastern_TD'\n",
    "\n",
    "#total number of sample points\n",
    "n_sample = 2000\n",
    "\n",
    "#number of classes to sample\n",
    "n_class= 2"
   ]
  },
  {
   "cell_type": "markdown",
   "metadata": {},
   "source": [
    "### Open datasets"
   ]
  },
  {
   "cell_type": "code",
   "execution_count": 4,
   "metadata": {},
   "outputs": [],
   "source": [
    "#open AEZ shapefile\n",
    "aez = gpd.read_file(aez)\n",
    "\n",
    "#find bouding box\n",
    "xmin,ymin,xmax,ymax = aez.bounds.values[0][0], aez.bounds.values[0][1], aez.bounds.values[0][2], aez.bounds.values[0][3]"
   ]
  },
  {
   "cell_type": "code",
   "execution_count": 5,
   "metadata": {},
   "outputs": [],
   "source": [
    "#open GFSAD cropmask at bounding coords of AEZ\n",
    "da = xr.open_rasterio(crop_mask_shp).squeeze().sel(x=slice(xmin,xmax),\n",
    "                                                  y=slice(ymax,ymin)).chunk({'x':3000, 'y':3000})\n",
    "attrs = da.attrs\n",
    "\n",
    "#rename x and y because for some reason the geobox params are different than xarray coords\n",
    "da = da.rename({'x':'longitude', 'y':'latitude'})\n"
   ]
  },
  {
   "cell_type": "markdown",
   "metadata": {},
   "source": [
    "### Mask by AEZ"
   ]
  },
  {
   "cell_type": "code",
   "execution_count": 6,
   "metadata": {},
   "outputs": [
    {
     "name": "stdout",
     "output_type": "stream",
     "text": [
      "Rasterizing to match xarray.DataArray dimensions (49437, 35491)\n"
     ]
    }
   ],
   "source": [
    "aez_raster = xr_rasterize(aez, da)"
   ]
  },
  {
   "cell_type": "code",
   "execution_count": 7,
   "metadata": {},
   "outputs": [],
   "source": [
    "da = da.where(aez_raster).astype(np.int8)\n",
    "da = da.to_dataset(name='GFSAD')\n",
    "da.attrs = attrs"
   ]
  },
  {
   "cell_type": "code",
   "execution_count": 8,
   "metadata": {},
   "outputs": [],
   "source": [
    "da = da.compute()"
   ]
  },
  {
   "cell_type": "markdown",
   "metadata": {},
   "source": [
    "### Generate random points\n",
    "\n",
    "2000 random points: 50% (1000) in 2, 25% (500) in 1, 25% (500) in 0\n",
    "\n",
    "2=crop\n",
    "\n",
    "1=non-crop\n",
    "\n",
    "0=no-data"
   ]
  },
  {
   "cell_type": "code",
   "execution_count": 9,
   "metadata": {},
   "outputs": [],
   "source": [
    "#rename back to x & y so code below works\n",
    "da = da.rename({'longitude':'x', 'latitude':'y'})"
   ]
  },
  {
   "cell_type": "code",
   "execution_count": 10,
   "metadata": {},
   "outputs": [
    {
     "name": "stdout",
     "output_type": "stream",
     "text": [
      "1\n",
      "2\n",
      "[624827958 172001762]\n",
      "[0.78414239 0.21585761]\n"
     ]
    }
   ],
   "source": [
    "class_sizes =[]\n",
    "for class_id in np.arange(1, n_class+1):\n",
    "    print(class_id)\n",
    "    class_sizes.append((da.GFSAD==class_id).sum().values)\n",
    "\n",
    "class_sizes = np.array(class_sizes)\n",
    "print(class_sizes)\n",
    "print(class_sizes/class_sizes.sum())"
   ]
  },
  {
   "cell_type": "code",
   "execution_count": 11,
   "metadata": {},
   "outputs": [
    {
     "name": "stdout",
     "output_type": "stream",
     "text": [
      "1000\n"
     ]
    }
   ],
   "source": [
    "n_sample_class = np.ceil(n_sample*1./ n_class).astype(int)\n",
    "print(n_sample_class)"
   ]
  },
  {
   "cell_type": "code",
   "execution_count": 12,
   "metadata": {},
   "outputs": [],
   "source": [
    "label_picked = {}\n",
    "for class_id in np.arange(1, n_class+1):\n",
    "    if class_sizes[class_id-1]> 1e9:\n",
    "        # slightly over sample\n",
    "        n_sample_over = np.ceil(n_sample_class*len(da.x)*len(da.y)/class_sizes[class_id-1]).astype(int)\n",
    "        random_x = np.random.choice(np.arange(len(da.x)), n_sample_over, replace=False)\n",
    "        random_y = np.random.choice(np.arange(len(da.y)), n_sample_over, replace=False)\n",
    "        match = da.GFSAD.values[random_y, random_x] == class_id\n",
    "        random_y, random_x = random_y[match], random_x[match]\n",
    "        if len(random_y) < n_sample_class:\n",
    "            print(\"Not enough points are picked, try increase the number of random points\")\n",
    "            break\n",
    "        else:\n",
    "            pick = np.random.choice(np.arange(len(random_y)), n_sample_class, replace=False)\n",
    "            y, x = random_y[pick], random_x[pick]\n",
    "    else:\n",
    "        index = np.argwhere(da.GFSAD.values.flatten() == class_id).squeeze()\n",
    "        picked = np.random.choice(index, n_sample_class, replace=False)\n",
    "        # convert back to x, y \n",
    "        y, x  = np.unravel_index(picked, da.GFSAD.values.shape)\n",
    "    label_picked[class_id] = (y, x)\n",
    "    np.savetxt(f'{results}_class_{class_id}.csv', \n",
    "               np.vstack((da.y[y].values, \n",
    "                          da.x[x].values)).transpose(),fmt='%d', delimiter=',')\n"
   ]
  },
  {
   "cell_type": "code",
   "execution_count": 13,
   "metadata": {},
   "outputs": [],
   "source": [
    "for class_id in np.arange(1, n_class+1):\n",
    "    y, x = label_picked[class_id]\n",
    "    df = pd.DataFrame({'y': da.y[y].values, 'x':da.x[x].values})\n",
    "    df['class']=class_id\n",
    "    if class_id ==1: \n",
    "        dfs = df\n",
    "    else: \n",
    "        dfs = dfs.append(df, ignore_index=True)"
   ]
  },
  {
   "cell_type": "code",
   "execution_count": 14,
   "metadata": {},
   "outputs": [],
   "source": [
    "gdf_points = gpd.GeoDataFrame(\n",
    "            dfs,\n",
    "            crs=da.crs,\n",
    "            geometry=gpd.points_from_xy(dfs.x, dfs.y)).reset_index()\n",
    "\n",
    "gdf_points = gdf_points.drop(['x', 'y'],axis=1)\n"
   ]
  },
  {
   "cell_type": "code",
   "execution_count": 15,
   "metadata": {},
   "outputs": [
    {
     "data": {
      "text/plain": [
       "<matplotlib.axes._subplots.AxesSubplot at 0x7fa2be02d908>"
      ]
     },
     "execution_count": 15,
     "metadata": {},
     "output_type": "execute_result"
    },
    {
     "data": {
      "image/png": "[encoded data removed]",
      "text/plain": [
       "<Figure size 576x432 with 2 Axes>"
      ]
     },
     "metadata": {
      "needs_background": "light"
     },
     "output_type": "display_data"
    }
   ],
   "source": [
    "gdf_points.plot(figsize=(8,6), column='class', legend=True)"
   ]
  },
  {
   "cell_type": "markdown",
   "metadata": {},
   "source": [
    "## Add subsample of points from GFSAD\n",
    "\n",
    "This will serve as an internal validation dataset.  Append 100 samples from GFSAD per region, 50 crop & 50 non-crop, and shuffle them within the larger dataset.\n",
    "We need a row identifying them so we can extract after the classification."
   ]
  },
  {
   "cell_type": "code",
   "execution_count": 16,
   "metadata": {},
   "outputs": [],
   "source": [
    "#open data\n",
    "gfsad_shp = 'data/training_validation/GFSAD2015/cropland_prelim_validation_GFSAD.shp'\n",
    "gfsad_gdf = gpd.read_file(gfsad_shp)\n",
    "\n",
    "#clip to AEZ\n",
    "gfsad_gdf = gpd.overlay(gfsad_gdf,aez,how='intersection')"
   ]
  },
  {
   "cell_type": "code",
   "execution_count": 17,
   "metadata": {},
   "outputs": [],
   "source": [
    "#sample 50 points from each class\n",
    "crops = gfsad_gdf[gfsad_gdf['class']==1].sample(n=50, replace=False).reset_index(drop=True)\n",
    "noncrops = gfsad_gdf[gfsad_gdf['class']==0].sample(n=50, replace=False).reset_index(drop=True)\n",
    "\n",
    "#reclassify class int to match GFSAD scheme \n",
    "crops['class'] = np.where(crops['class'] == 1,2, crops['class'])\n",
    "noncrops['class'] = np.where(noncrops['class'] == 0,1, crops['class'])"
   ]
  },
  {
   "cell_type": "code",
   "execution_count": 18,
   "metadata": {},
   "outputs": [],
   "source": [
    "# add a column to identify validation samples\n",
    "crops['GFSAD_sample']=True\n",
    "noncrops['GFSAD_sample']=True\n",
    "gdf_points['GFSAD_sample']=False"
   ]
  },
  {
   "cell_type": "code",
   "execution_count": 19,
   "metadata": {},
   "outputs": [],
   "source": [
    "# Add GFSAD samples to dataset\n",
    "gdf_points = pd.concat([gdf_points,crops,noncrops]).reset_index(drop=True).drop(columns=['ID','CODE','COUNTRY','index'])"
   ]
  },
  {
   "cell_type": "markdown",
   "metadata": {},
   "source": [
    "### Create another small sample for training/testing"
   ]
  },
  {
   "cell_type": "code",
   "execution_count": 20,
   "metadata": {},
   "outputs": [
    {
     "data": {
      "text/html": [
       "<div>\n",
       "<style scoped>\n",
       "    .dataframe tbody tr th:only-of-type {\n",
       "        vertical-align: middle;\n",
       "    }\n",
       "\n",
       "    .dataframe tbody tr th {\n",
       "        vertical-align: top;\n",
       "    }\n",
       "\n",
       "    .dataframe thead th {\n",
       "        text-align: right;\n",
       "    }\n",
       "</style>\n",
       "<table border=\"1\" class=\"dataframe\">\n",
       "  <thead>\n",
       "    <tr style=\"text-align: right;\">\n",
       "      <th></th>\n",
       "      <th>class</th>\n",
       "      <th>geometry</th>\n",
       "    </tr>\n",
       "  </thead>\n",
       "  <tbody>\n",
       "    <tr>\n",
       "      <th>0</th>\n",
       "      <td>2</td>\n",
       "      <td>POINT (34.92348 8.64687)</td>\n",
       "    </tr>\n",
       "    <tr>\n",
       "      <th>1</th>\n",
       "      <td>2</td>\n",
       "      <td>POINT (38.42949 8.10614)</td>\n",
       "    </tr>\n",
       "    <tr>\n",
       "      <th>2</th>\n",
       "      <td>2</td>\n",
       "      <td>POINT (38.42949 8.10614)</td>\n",
       "    </tr>\n",
       "    <tr>\n",
       "      <th>3</th>\n",
       "      <td>2</td>\n",
       "      <td>POINT (30.38338 -1.20497)</td>\n",
       "    </tr>\n",
       "    <tr>\n",
       "      <th>4</th>\n",
       "      <td>2</td>\n",
       "      <td>POINT (36.92574 7.69262)</td>\n",
       "    </tr>\n",
       "  </tbody>\n",
       "</table>\n",
       "</div>"
      ],
      "text/plain": [
       "   class                   geometry\n",
       "0      2   POINT (34.92348 8.64687)\n",
       "1      2   POINT (38.42949 8.10614)\n",
       "2      2   POINT (38.42949 8.10614)\n",
       "3      2  POINT (30.38338 -1.20497)\n",
       "4      2   POINT (36.92574 7.69262)"
      ]
     },
     "execution_count": 20,
     "metadata": {},
     "output_type": "execute_result"
    }
   ],
   "source": [
    "crops = gfsad_gdf[gfsad_gdf['class']==1].sample(n=50, replace=False).reset_index(drop=True)\n",
    "noncrops = gfsad_gdf[gfsad_gdf['class']==0].sample(n=50, replace=False).reset_index(drop=True)\n",
    "\n",
    "#reclassify class int to match GFSAD scheme \n",
    "crops['class'] = np.where(crops['class'] == 1,2, crops['class'])\n",
    "noncrops['class'] = np.where(noncrops['class'] == 0,1, crops['class'])\n",
    "\n",
    "testing_gdf_points = pd.concat([crops,noncrops]).reset_index(drop=True).drop(columns=['ID','CODE','COUNTRY'])\n",
    "testing_gdf_points.head()"
   ]
  },
  {
   "cell_type": "markdown",
   "metadata": {},
   "source": [
    "### Shuffle rows so classes aren't sequential in CEO"
   ]
  },
  {
   "cell_type": "code",
   "execution_count": 21,
   "metadata": {},
   "outputs": [],
   "source": [
    "gdf_points = gdf_points.sample(frac=1).reset_index(drop=True)\n",
    "testing_gdf_points = testing_gdf_points.sample(frac=1).reset_index(drop=True)"
   ]
  },
  {
   "cell_type": "markdown",
   "metadata": {},
   "source": [
    "### Add a PLOTID field to satisfy Collect Earth"
   ]
  },
  {
   "cell_type": "code",
   "execution_count": 22,
   "metadata": {},
   "outputs": [
    {
     "data": {
      "text/html": [
       "<div>\n",
       "<style scoped>\n",
       "    .dataframe tbody tr th:only-of-type {\n",
       "        vertical-align: middle;\n",
       "    }\n",
       "\n",
       "    .dataframe tbody tr th {\n",
       "        vertical-align: top;\n",
       "    }\n",
       "\n",
       "    .dataframe thead th {\n",
       "        text-align: right;\n",
       "    }\n",
       "</style>\n",
       "<table border=\"1\" class=\"dataframe\">\n",
       "  <thead>\n",
       "    <tr style=\"text-align: right;\">\n",
       "      <th></th>\n",
       "      <th>class</th>\n",
       "      <th>geometry</th>\n",
       "      <th>GFSAD_sample</th>\n",
       "      <th>PLOTID</th>\n",
       "      <th>SAMPLEID</th>\n",
       "    </tr>\n",
       "  </thead>\n",
       "  <tbody>\n",
       "    <tr>\n",
       "      <th>0</th>\n",
       "      <td>1</td>\n",
       "      <td>POINT (37.07787 1.38790)</td>\n",
       "      <td>False</td>\n",
       "      <td>0</td>\n",
       "      <td>0</td>\n",
       "    </tr>\n",
       "    <tr>\n",
       "      <th>1</th>\n",
       "      <td>1</td>\n",
       "      <td>POINT (35.33263 10.01388)</td>\n",
       "      <td>False</td>\n",
       "      <td>1</td>\n",
       "      <td>1</td>\n",
       "    </tr>\n",
       "    <tr>\n",
       "      <th>2</th>\n",
       "      <td>1</td>\n",
       "      <td>POINT (41.41027 7.84337)</td>\n",
       "      <td>False</td>\n",
       "      <td>2</td>\n",
       "      <td>2</td>\n",
       "    </tr>\n",
       "    <tr>\n",
       "      <th>3</th>\n",
       "      <td>1</td>\n",
       "      <td>POINT (31.68690 -5.74509)</td>\n",
       "      <td>False</td>\n",
       "      <td>3</td>\n",
       "      <td>3</td>\n",
       "    </tr>\n",
       "    <tr>\n",
       "      <th>4</th>\n",
       "      <td>1</td>\n",
       "      <td>POINT (40.81684 -1.45904)</td>\n",
       "      <td>False</td>\n",
       "      <td>4</td>\n",
       "      <td>4</td>\n",
       "    </tr>\n",
       "  </tbody>\n",
       "</table>\n",
       "</div>"
      ],
      "text/plain": [
       "   class                   geometry  GFSAD_sample  PLOTID  SAMPLEID\n",
       "0      1   POINT (37.07787 1.38790)         False       0         0\n",
       "1      1  POINT (35.33263 10.01388)         False       1         1\n",
       "2      1   POINT (41.41027 7.84337)         False       2         2\n",
       "3      1  POINT (31.68690 -5.74509)         False       3         3\n",
       "4      1  POINT (40.81684 -1.45904)         False       4         4"
      ]
     },
     "execution_count": 22,
     "metadata": {},
     "output_type": "execute_result"
    }
   ],
   "source": [
    "gdf_points['PLOTID'] = range(0,len(gdf_points))\n",
    "gdf_points['SAMPLEID'] = range(0,len(gdf_points))\n",
    "\n",
    "testing_gdf_points['PLOTID'] = range(0,len(testing_gdf_points))\n",
    "testing_gdf_points['SAMPLEID'] = range(0,len(testing_gdf_points))\n",
    "\n",
    "gdf_points.head()"
   ]
  },
  {
   "cell_type": "markdown",
   "metadata": {},
   "source": [
    "### Convert points to square polygons"
   ]
  },
  {
   "cell_type": "code",
   "execution_count": 23,
   "metadata": {},
   "outputs": [],
   "source": [
    "#set radius (in metres) around points\n",
    "radius = 20\n",
    "\n",
    "#convert to equal area to set polygon size in metres\n",
    "gdf_poly = gdf_points.to_crs('EPSG:6933')\n",
    "testing_gdf_poly = testing_gdf_points.to_crs('EPSG:6933')\n",
    "\n",
    "#create circle buffer around points, then find envelope\n",
    "gdf_poly['geometry'] = gdf_poly['geometry'].buffer(radius).envelope\n",
    "testing_gdf_poly['geometry'] = testing_gdf_poly['geometry'].buffer(radius).envelope\n",
    "\n",
    "#Convert back to lat/lon\n",
    "gdf_poly = gdf_poly.to_crs('EPSG:4326')\n",
    "testing_gdf_poly = testing_gdf_poly.to_crs('EPSG:4326')"
   ]
  },
  {
   "cell_type": "code",
   "execution_count": 24,
   "metadata": {},
   "outputs": [],
   "source": [
    "#export to file\n",
    "gdf_poly.to_file(results + '_polys.shp')\n",
    "gdf_points.to_file(results + '_points.shp')\n",
    "\n",
    "testing_gdf_poly.to_file(results + '_testing_polys.shp')\n",
    "testing_gdf_points.to_file(results + '_testing_points.shp')"
   ]
  },
  {
   "cell_type": "code",
   "execution_count": null,
   "metadata": {},
   "outputs": [],
   "source": []
  },
  {
   "cell_type": "code",
   "execution_count": null,
   "metadata": {},
   "outputs": [],
   "source": []
  }
 ],
 "metadata": {
  "kernelspec": {
   "display_name": "Python 3",
   "language": "python",
   "name": "python3"
  },
  "language_info": {
   "codemirror_mode": {
    "name": "ipython",
    "version": 3
   },
   "file_extension": ".py",
   "mimetype": "text/x-python",
   "name": "python",
   "nbconvert_exporter": "python",
   "pygments_lexer": "ipython3",
   "version": "3.6.9"
  }
 },
 "nbformat": 4,
 "nbformat_minor": 4
}
