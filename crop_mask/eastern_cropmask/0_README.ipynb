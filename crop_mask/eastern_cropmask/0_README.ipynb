{
 "cells": [
  {
   "cell_type": "markdown",
   "metadata": {},
   "source": [
    "# Scalable Supervised Machine Learning on the ODC"
   ]
  },
  {
   "cell_type": "markdown",
   "metadata": {},
   "source": [
    "This notebook is a placeholder for now.  It will contain a markdown only description of the scripts in this folder, including:\n",
    "- The guiding principles/philosophy of the scripts (ie setting expectations around what they can and cannot do)\n",
    "- The order to run the scripts in (including links to each script)\n",
    "- Any prerequisites required to understand the content in these notebooks (e.g. reading material, ODC/Sandbox/notebooks/python training material)\n",
    "- Information on any set-up that might be required to run these notebooks (e.g. creating folders for outputs? Setting up a S3 bucket for intermediate files?)\n"
   ]
  },
  {
   "cell_type": "markdown",
   "metadata": {},
   "source": [
    "---\n",
    "## TO DO\n",
    "- add a `debug=True|False` flag to `collect_training_data`, this will set ncpus=1 and remove HiddenPrints()\n",
    "- add WOfS loading option to `collect_training_data`?\n",
    "- implement learning curves? https://scikit-learn.org/stable/auto_examples/model_selection/plot_learning_curve.html\n",
    "- rewrite the `sklearn_(un)flatten` to work with `dask.arrays`??\n",
    "- convert .GeoMedian() to xr_geomedian in classificationtools for consistency\n",
    "- add a check to `collect_training_data` to look for dask-clients before running in parallel mode"
   ]
  },
  {
   "cell_type": "code",
   "execution_count": null,
   "metadata": {},
   "outputs": [],
   "source": []
  }
 ],
 "metadata": {
  "kernelspec": {
   "display_name": "Python 3",
   "language": "python",
   "name": "python3"
  },
  "language_info": {
   "codemirror_mode": {
    "name": "ipython",
    "version": 3
   },
   "file_extension": ".py",
   "mimetype": "text/x-python",
   "name": "python",
   "nbconvert_exporter": "python",
   "pygments_lexer": "ipython3",
   "version": "3.6.9"
  }
 },
 "nbformat": 4,
 "nbformat_minor": 4
}
