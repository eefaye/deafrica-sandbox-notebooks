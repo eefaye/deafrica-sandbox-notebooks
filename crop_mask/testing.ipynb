{
 "cells": [
  {
   "cell_type": "markdown",
   "metadata": {},
   "source": [
    "# Date of observation in monthly median composites"
   ]
  },
  {
   "cell_type": "code",
   "execution_count": null,
   "metadata": {},
   "outputs": [],
   "source": [
    "%matplotlib inline\n",
    "\n",
    "import datacube\n",
    "import numpy as np\n",
    "import sys\n",
    "import xarray as xr\n",
    "\n",
    "sys.path.append('../Scripts')\n",
    "from deafrica_datahandling import load_ard\n",
    "from deafrica_plotting import rgb"
   ]
  },
  {
   "cell_type": "code",
   "execution_count": null,
   "metadata": {},
   "outputs": [],
   "source": [
    "dc = datacube.Datacube(app='Vegetation_phenology')"
   ]
  },
  {
   "cell_type": "code",
   "execution_count": null,
   "metadata": {},
   "outputs": [],
   "source": [
    "# Define area of interest\n",
    "lat = 10.3200 \n",
    "lon = 4.4709\n",
    "lon_buffer = 0.4\n",
    "lat_buffer = 0.4\n",
    "\n",
    "# Combine central lat,lon with buffer to get area of interest\n",
    "lat_range = (lat-lat_buffer, lat+lat_buffer)\n",
    "lon_range = (lon-lon_buffer, lon+lon_buffer)\n",
    "\n",
    "# Set the range of dates for the analysis\n",
    "years_range = ('2019-01', '2019-12')"
   ]
  },
  {
   "cell_type": "code",
   "execution_count": null,
   "metadata": {},
   "outputs": [],
   "source": [
    "# Create a reusable query\n",
    "query = {\n",
    "    'y': lat_range,\n",
    "    'x': lon_range,\n",
    "    'time': years_range,\n",
    "    'measurements': ['red', 'green', 'blue'],\n",
    "    'resolution': (-10,10),\n",
    "    'output_crs': 'epsg:32631'\n",
    "}\n",
    "\n",
    "# Load available data from Landsat 8\n",
    "ds = load_ard(dc=dc,\n",
    "              products=['s2_l2a'],\n",
    "              min_gooddata=0.99,\n",
    "              **query,\n",
    "              dtype='native'\n",
    "              )"
   ]
  },
  {
   "cell_type": "code",
   "execution_count": null,
   "metadata": {},
   "outputs": [],
   "source": [
    "rgb(ds, index=[0,1,2])"
   ]
  },
  {
   "cell_type": "code",
   "execution_count": null,
   "metadata": {},
   "outputs": [],
   "source": []
  },
  {
   "cell_type": "code",
   "execution_count": null,
   "metadata": {},
   "outputs": [],
   "source": []
  },
  {
   "cell_type": "code",
   "execution_count": null,
   "metadata": {},
   "outputs": [],
   "source": []
  },
  {
   "cell_type": "code",
   "execution_count": null,
   "metadata": {},
   "outputs": [],
   "source": [
    "def date_of_median(da, year, sample_lat, sample_lon):\n",
    "    \"\"\"\n",
    "    da = xr.DataArray\n",
    "        Assuming an annual time-series\n",
    "    year = str\n",
    "        year of time-series in 'da'\n",
    "    sample_lat = float\n",
    "        latitude pixel coordinate\n",
    "    sample_lon = float\n",
    "        longitude pixel coordinate\n",
    "    \n",
    "    \"\"\"\n",
    "    \n",
    "    #calculate medians for each month\n",
    "    monthly_medians = da.groupby('time.month').median()\n",
    "    \n",
    "    months = [str(i) for i in range(1,13)]\n",
    "    indexes = [i for i in range(0,12)]\n",
    "    \n",
    "    dates=[]\n",
    "    values=[]\n",
    "    for month, index in zip(months,indexes): \n",
    "        \n",
    "        #select the month of interest from da\n",
    "        m = da.sel(time=year+\"-\"+month)\n",
    "        \n",
    "        #find regions with all-NaN slices\n",
    "        mask = m.isnull().all('time')\n",
    "        \n",
    "        #calculate distance each pixel has from median\n",
    "        distance = m - monthly_medians.isel(month=index)\n",
    "        \n",
    "        #index of the absolute minimum distance\n",
    "        distance = distance.fillna(float(distance.max() + 1))\n",
    "        distance=xr.ufuncs.fabs(distance)\n",
    "        idx = distance.idxmin(dim='time', skipna=True).where(~mask)\n",
    "        value = distance.sel(time=idx, method='nearest')\n",
    "        values.append(value)\n",
    "        dates.append(idx)\n",
    "    \n",
    "    #join into dataarray along new dimension\n",
    "    dates = xr.concat(dates, \"date of median\")\n",
    "    dist_from_median = xr.concat(values, 'dist_from_monthly_median')\n",
    "    \n",
    "    #select pixel\n",
    "    dates = dates.sel(x=sample_lon, y=sample_lat, method='nearest')\n",
    "    dist_from_median = dist_from_median.sel(x=sample_lon, y=sample_lat, method='nearest')\n",
    "    \n",
    "    return dates, dist_from_median"
   ]
  },
  {
   "cell_type": "code",
   "execution_count": null,
   "metadata": {},
   "outputs": [],
   "source": [
    "date_of_median, dist_from_median = date_of_median(ds.blue,\n",
    "                                                  sample_lon=1929690.,\n",
    "                                                  sample_lat=-4123870.,\n",
    "                                                  year='2018')"
   ]
  },
  {
   "cell_type": "code",
   "execution_count": null,
   "metadata": {},
   "outputs": [],
   "source": [
    "print(date_of_median)"
   ]
  },
  {
   "cell_type": "code",
   "execution_count": null,
   "metadata": {},
   "outputs": [],
   "source": [
    "dist_from_median.plot()"
   ]
  },
  {
   "cell_type": "code",
   "execution_count": null,
   "metadata": {},
   "outputs": [],
   "source": []
  }
 ],
 "metadata": {
  "kernelspec": {
   "display_name": "Python 3",
   "language": "python",
   "name": "python3"
  },
  "language_info": {
   "codemirror_mode": {
    "name": "ipython",
    "version": 3
   },
   "file_extension": ".py",
   "mimetype": "text/x-python",
   "name": "python",
   "nbconvert_exporter": "python",
   "pygments_lexer": "ipython3",
   "version": "3.6.9"
  }
 },
 "nbformat": 4,
 "nbformat_minor": 4
}
